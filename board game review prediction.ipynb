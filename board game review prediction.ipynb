{
 "cells": [
  {
   "cell_type": "code",
   "execution_count": 7,
   "metadata": {},
   "outputs": [],
   "source": [
    "import sys\n",
    "import pandas as pd\n",
    "import matplotlib \n",
    "import seaborn as sns\n",
    "import sklearn\n"
   ]
  },
  {
   "cell_type": "code",
   "execution_count": 2,
   "metadata": {},
   "outputs": [
    {
     "name": "stdout",
     "output_type": "stream",
     "text": [
      "3.7.3 (default, Apr 24 2019, 15:29:51) [MSC v.1915 64 bit (AMD64)]\n"
     ]
    }
   ],
   "source": [
    "print(sys.version)\n"
   ]
  },
  {
   "cell_type": "code",
   "execution_count": 4,
   "metadata": {},
   "outputs": [
    {
     "name": "stdout",
     "output_type": "stream",
     "text": [
      "0.24.2\n"
     ]
    }
   ],
   "source": [
    "print(pd.__version__)"
   ]
  },
  {
   "cell_type": "code",
   "execution_count": 5,
   "metadata": {},
   "outputs": [
    {
     "name": "stdout",
     "output_type": "stream",
     "text": [
      "3.1.0\n"
     ]
    }
   ],
   "source": [
    "print(mlb.__version__)"
   ]
  },
  {
   "cell_type": "code",
   "execution_count": 6,
   "metadata": {},
   "outputs": [
    {
     "name": "stdout",
     "output_type": "stream",
     "text": [
      "0.9.0\n"
     ]
    }
   ],
   "source": [
    "print(sns.__version__)"
   ]
  },
  {
   "cell_type": "code",
   "execution_count": 9,
   "metadata": {},
   "outputs": [],
   "source": [
    " import matplotlib.pyplot as plt"
   ]
  },
  {
   "cell_type": "code",
   "execution_count": 13,
   "metadata": {},
   "outputs": [],
   "source": [
    " games = pd.read_csv(\"games.csv\")"
   ]
  },
  {
   "cell_type": "code",
   "execution_count": 14,
   "metadata": {},
   "outputs": [
    {
     "name": "stdout",
     "output_type": "stream",
     "text": [
      "(81312, 20)\n"
     ]
    }
   ],
   "source": [
    "print(games.shape)"
   ]
  },
  {
   "cell_type": "code",
   "execution_count": 16,
   "metadata": {},
   "outputs": [
    {
     "name": "stdout",
     "output_type": "stream",
     "text": [
      "Index(['id', 'type', 'name', 'yearpublished', 'minplayers', 'maxplayers',\n",
      "       'playingtime', 'minplaytime', 'maxplaytime', 'minage', 'users_rated',\n",
      "       'average_rating', 'bayes_average_rating', 'total_owners',\n",
      "       'total_traders', 'total_wanters', 'total_wishers', 'total_comments',\n",
      "       'total_weights', 'average_weight'],\n",
      "      dtype='object')\n"
     ]
    }
   ],
   "source": [
    "print(games.columns)"
   ]
  },
  {
   "cell_type": "code",
   "execution_count": 18,
   "metadata": {},
   "outputs": [
    {
     "name": "stdout",
     "output_type": "stream",
     "text": [
      "<bound method NDFrame.head of            id                type  \\\n",
      "0       12333           boardgame   \n",
      "1      120677           boardgame   \n",
      "2      102794           boardgame   \n",
      "3       25613           boardgame   \n",
      "4        3076           boardgame   \n",
      "5       31260           boardgame   \n",
      "6      124742           boardgame   \n",
      "7       96848           boardgame   \n",
      "8       84876           boardgame   \n",
      "9       72125           boardgame   \n",
      "10       2651           boardgame   \n",
      "11     164153           boardgame   \n",
      "12     115746           boardgame   \n",
      "13     121921           boardgame   \n",
      "14      35677           boardgame   \n",
      "15      28720           boardgame   \n",
      "16     126163           boardgame   \n",
      "17     150376           boardgame   \n",
      "18      68448           boardgame   \n",
      "19      18602           boardgame   \n",
      "20     122515           boardgame   \n",
      "21      40834           boardgame   \n",
      "22      62219           boardgame   \n",
      "23      28143           boardgame   \n",
      "24     103885           boardgame   \n",
      "25         93           boardgame   \n",
      "26     146021           boardgame   \n",
      "27     110327           boardgame   \n",
      "28      37111           boardgame   \n",
      "29      12493           boardgame   \n",
      "...       ...                 ...   \n",
      "81282  184275  boardgameexpansion   \n",
      "81283  184281  boardgameexpansion   \n",
      "81284  184287           boardgame   \n",
      "81285  184292           boardgame   \n",
      "81286  184293           boardgame   \n",
      "81287  184298           boardgame   \n",
      "81288  184301           boardgame   \n",
      "81289  184306           boardgame   \n",
      "81290  184308  boardgameexpansion   \n",
      "81291  184311           boardgame   \n",
      "81292  184327           boardgame   \n",
      "81293  184337           boardgame   \n",
      "81294  184349           boardgame   \n",
      "81295  184351           boardgame   \n",
      "81296  184355  boardgameexpansion   \n",
      "81297  184357           boardgame   \n",
      "81298  184364           boardgame   \n",
      "81299  184368           boardgame   \n",
      "81300  184383           boardgame   \n",
      "81301  184390           boardgame   \n",
      "81302  184399           boardgame   \n",
      "81303  184403           boardgame   \n",
      "81304  184424           boardgame   \n",
      "81305  184439           boardgame   \n",
      "81306  184440           boardgame   \n",
      "81307  184441  boardgameexpansion   \n",
      "81308  184442           boardgame   \n",
      "81309  184443           boardgame   \n",
      "81310  184449           boardgame   \n",
      "81311  184451           boardgame   \n",
      "\n",
      "                                                    name  yearpublished  \\\n",
      "0                                      Twilight Struggle         2005.0   \n",
      "1                                          Terra Mystica         2012.0   \n",
      "2                              Caverna: The Cave Farmers         2013.0   \n",
      "3              Through the Ages: A Story of Civilization         2006.0   \n",
      "4                                            Puerto Rico         2002.0   \n",
      "5                                               Agricola         2007.0   \n",
      "6                                     Android: Netrunner         2012.0   \n",
      "7                                 Mage Knight Board Game         2011.0   \n",
      "8                                The Castles of Burgundy         2011.0   \n",
      "9                                                Eclipse         2011.0   \n",
      "10                                            Power Grid         2004.0   \n",
      "11                           Star Wars: Imperial Assault         2014.0   \n",
      "12                      War of the Ring (second edition)         2012.0   \n",
      "13      Robinson Crusoe: Adventures on the Cursed Island         2012.0   \n",
      "14                                              Le Havre         2008.0   \n",
      "15                                                 Brass         2007.0   \n",
      "16                          Tzolk'in: The Mayan Calendar         2012.0   \n",
      "17                     Dead of Winter: A Crossroads Game         2014.0   \n",
      "18                                             7 Wonders         2010.0   \n",
      "19                                                Caylus         2005.0   \n",
      "20                                             Keyflower         2012.0   \n",
      "21                                    Dominion: Intrigue         2009.0   \n",
      "22                                      Dominant Species         2010.0   \n",
      "23                                   Race for the Galaxy         2007.0   \n",
      "24                     Star Wars: X-Wing Miniatures Game         2012.0   \n",
      "25                                             El Grande         1995.0   \n",
      "26                                       Eldritch Horror         2013.0   \n",
      "27                                    Lords of Waterdeep         2012.0   \n",
      "28                                  Battlestar Galactica         2008.0   \n",
      "29                     Twilight Imperium (Third Edition)         2005.0   \n",
      "...                                                  ...            ...   \n",
      "81282       Secrets of the Lost Tomb: The Elite Missions         2015.0   \n",
      "81283                                Coloretto: +3-Karte         2015.0   \n",
      "81284                                            Frantic         2015.0   \n",
      "81285                                             Patron         2015.0   \n",
      "81286            Jenga: Transformers  Rise of the Fallen         2009.0   \n",
      "81287                         WarChess-X: The Armageddon         2014.0   \n",
      "81288                             King Cat: Feline Feuds         2015.0   \n",
      "81289                                      Re-Extinction            0.0   \n",
      "81290                      Hellweg westfalicus: Dortmund         2015.0   \n",
      "81291                                     Fliegenschmaus         2015.0   \n",
      "81292                                        Rogue Squad         2016.0   \n",
      "81293                    Risk: Marvel Cinematic Universe         2015.0   \n",
      "81294                           The Luzon Campaign, 1945         2018.0   \n",
      "81295                                         Honey Wars         2015.0   \n",
      "81296                   Eaten by Zombies!: Burn it down!         2016.0   \n",
      "81297                  Wilson Gridiron Strategy Football         1970.0   \n",
      "81298                                    Terra Incognita         2015.0   \n",
      "81299                                          Bone Head         2015.0   \n",
      "81300                               Disney Eye Found It!         2013.0   \n",
      "81301                                             Idfutr         2015.0   \n",
      "81302                                         Micropolis         2014.0   \n",
      "81303                                      Big Dope Deal         2008.0   \n",
      "81304                                  Mega Civilization         2015.0   \n",
      "81305                                        Succession!         2016.0   \n",
      "81306                                   Stick and Stones         2015.0   \n",
      "81307                               Micro Rome: Aegyptus         2015.0   \n",
      "81308  Trivial Pursuit: Marvel Cinematic Universe  Da...         2013.0   \n",
      "81309                                          BEARanoia         2015.0   \n",
      "81310                                            Freight         2015.0   \n",
      "81311                                  Bingo Animal Kids         2010.0   \n",
      "\n",
      "       minplayers  maxplayers  playingtime  minplaytime  maxplaytime  minage  \\\n",
      "0             2.0         2.0        180.0        180.0        180.0    13.0   \n",
      "1             2.0         5.0        150.0         60.0        150.0    12.0   \n",
      "2             1.0         7.0        210.0         30.0        210.0    12.0   \n",
      "3             2.0         4.0        240.0        240.0        240.0    12.0   \n",
      "4             2.0         5.0        150.0         90.0        150.0    12.0   \n",
      "5             1.0         5.0        150.0         30.0        150.0    12.0   \n",
      "6             2.0         2.0         45.0         45.0         45.0    14.0   \n",
      "7             1.0         4.0        150.0        150.0        150.0    14.0   \n",
      "8             2.0         4.0         90.0         30.0         90.0    12.0   \n",
      "9             2.0         6.0        200.0         60.0        200.0    14.0   \n",
      "10            2.0         6.0        120.0        120.0        120.0    12.0   \n",
      "11            2.0         5.0         90.0         90.0         90.0     0.0   \n",
      "12            2.0         4.0        150.0        150.0        150.0    13.0   \n",
      "13            1.0         4.0        180.0         90.0        180.0    14.0   \n",
      "14            1.0         5.0        200.0        100.0        200.0    12.0   \n",
      "15            3.0         4.0        180.0        120.0        180.0    13.0   \n",
      "16            2.0         4.0         90.0         90.0         90.0    13.0   \n",
      "17            2.0         5.0        210.0         45.0        210.0    14.0   \n",
      "18            2.0         7.0         30.0         30.0         30.0    10.0   \n",
      "19            2.0         5.0        150.0         60.0        150.0    12.0   \n",
      "20            2.0         6.0        120.0         90.0        120.0    12.0   \n",
      "21            2.0         4.0         30.0         30.0         30.0    13.0   \n",
      "22            2.0         6.0        240.0        120.0        240.0    14.0   \n",
      "23            2.0         4.0         60.0         30.0         60.0    12.0   \n",
      "24            2.0         4.0         60.0         60.0         60.0    14.0   \n",
      "25            2.0         5.0        120.0         60.0        120.0    12.0   \n",
      "26            1.0         8.0        240.0        120.0        240.0    14.0   \n",
      "27            2.0         5.0         60.0         60.0         60.0    12.0   \n",
      "28            3.0         6.0        240.0        120.0        240.0    10.0   \n",
      "29            3.0         6.0        240.0        180.0        240.0    12.0   \n",
      "...           ...         ...          ...          ...          ...     ...   \n",
      "81282         1.0         6.0        180.0         60.0        180.0    13.0   \n",
      "81283         2.0         5.0         30.0         30.0         30.0     8.0   \n",
      "81284         2.0         8.0         45.0          5.0         45.0    12.0   \n",
      "81285         2.0         5.0         40.0         10.0         40.0     8.0   \n",
      "81286         2.0        99.0          0.0          0.0          0.0     6.0   \n",
      "81287         2.0        15.0          0.0         60.0          0.0    14.0   \n",
      "81288         2.0         4.0         60.0         30.0         60.0    12.0   \n",
      "81289         2.0         4.0         20.0          5.0         20.0     0.0   \n",
      "81290         2.0         4.0         45.0          0.0         45.0    10.0   \n",
      "81291         2.0         4.0         20.0         15.0         20.0     6.0   \n",
      "81292         1.0         4.0          0.0          0.0          0.0    13.0   \n",
      "81293         2.0         5.0         60.0         60.0         60.0    10.0   \n",
      "81294         1.0         1.0          0.0          0.0          0.0     0.0   \n",
      "81295         2.0         4.0         90.0         45.0         90.0    12.0   \n",
      "81296         2.0         6.0         90.0         30.0         90.0    12.0   \n",
      "81297         2.0         2.0        120.0         60.0        120.0    12.0   \n",
      "81298         1.0         1.0        120.0         45.0        120.0    12.0   \n",
      "81299         2.0         9.0          0.0          0.0          0.0     0.0   \n",
      "81300         1.0         6.0         30.0         30.0         30.0     4.0   \n",
      "81301         2.0         6.0         90.0         60.0         90.0    10.0   \n",
      "81302         2.0         4.0         60.0         30.0         60.0    12.0   \n",
      "81303         2.0         6.0          0.0         60.0          0.0    18.0   \n",
      "81304         5.0        18.0        720.0        360.0        720.0    12.0   \n",
      "81305         1.0         6.0         10.0          5.0         10.0     8.0   \n",
      "81306         2.0         2.0        120.0         45.0        120.0     0.0   \n",
      "81307         1.0         1.0          0.0         30.0          0.0    10.0   \n",
      "81308         2.0         0.0          0.0          0.0          0.0    12.0   \n",
      "81309         2.0        15.0          1.0          1.0          1.0     0.0   \n",
      "81310         2.0         4.0         60.0         30.0         60.0     8.0   \n",
      "81311         1.0         6.0         10.0         10.0         10.0     2.0   \n",
      "\n",
      "       users_rated  average_rating  bayes_average_rating  total_owners  \\\n",
      "0            20113         8.33774               8.22186         26647   \n",
      "1            14383         8.28798               8.14232         16519   \n",
      "2             9262         8.28994               8.06886         12230   \n",
      "3            13294         8.20407               8.05804         14343   \n",
      "4            39883         8.14261               8.04524         44362   \n",
      "5            39714         8.11957               8.03847         47522   \n",
      "6            15281         8.16760               7.97822         24381   \n",
      "7            12697         8.15901               7.96929         18769   \n",
      "8            15461         8.07879               7.95011         20558   \n",
      "9            15709         8.07933               7.93244         17611   \n",
      "10           34422         7.98880               7.91794         38633   \n",
      "11            3980         8.43944               7.91643          8477   \n",
      "12            3870         8.35044               7.88643          6257   \n",
      "13           10539         8.09283               7.88503         15896   \n",
      "14           15774         7.99115               7.88172         16429   \n",
      "15            8785         8.03071               7.85824          9171   \n",
      "16           12143         7.98673               7.83148         13958   \n",
      "17            9188         8.05776               7.82389         13692   \n",
      "18           36732         7.87047               7.79413         44982   \n",
      "19           19160         7.89829               7.78071         18885   \n",
      "20            6753         7.98786               7.74780          8599   \n",
      "21           19261         7.85479               7.73936         26403   \n",
      "22           10187         7.89276               7.72445         11003   \n",
      "23           28655         7.80281               7.72433         33736   \n",
      "24           11194         7.93301               7.72151         19899   \n",
      "25           15853         7.83279               7.71949         15556   \n",
      "26            8388         7.97188               7.71614         13668   \n",
      "27           19864         7.82181               7.70704         24419   \n",
      "28           20833         7.82752               7.70269         22735   \n",
      "29           12064         7.88473               7.69170         13771   \n",
      "...            ...             ...                   ...           ...   \n",
      "81282            0         0.00000               0.00000             2   \n",
      "81283            0         0.00000               0.00000             1   \n",
      "81284            0         0.00000               0.00000             0   \n",
      "81285            0         0.00000               0.00000             2   \n",
      "81286            0         0.00000               0.00000             0   \n",
      "81287            0         0.00000               0.00000             0   \n",
      "81288            0         0.00000               0.00000             0   \n",
      "81289            0         0.00000               0.00000             0   \n",
      "81290            0         0.00000               0.00000             0   \n",
      "81291            0         0.00000               0.00000             0   \n",
      "81292            0         0.00000               0.00000             0   \n",
      "81293            0         0.00000               0.00000             0   \n",
      "81294            0         0.00000               0.00000             0   \n",
      "81295            0         0.00000               0.00000             0   \n",
      "81296            0         0.00000               0.00000             0   \n",
      "81297            0         0.00000               0.00000             0   \n",
      "81298            0         0.00000               0.00000             1   \n",
      "81299            0         0.00000               0.00000             0   \n",
      "81300            0         0.00000               0.00000             1   \n",
      "81301            0         0.00000               0.00000             0   \n",
      "81302            0         0.00000               0.00000             0   \n",
      "81303            0         0.00000               0.00000             0   \n",
      "81304            0         0.00000               0.00000             0   \n",
      "81305            0         0.00000               0.00000             0   \n",
      "81306            0         0.00000               0.00000             0   \n",
      "81307            0         0.00000               0.00000             0   \n",
      "81308            0         0.00000               0.00000             0   \n",
      "81309            0         0.00000               0.00000             0   \n",
      "81310            0         0.00000               0.00000             0   \n",
      "81311            0         0.00000               0.00000             0   \n",
      "\n",
      "       total_traders  total_wanters  total_wishers  total_comments  \\\n",
      "0                372           1219           5865            5347   \n",
      "1                132           1586           6277            2526   \n",
      "2                 99           1476           5600            1700   \n",
      "3                362           1084           5075            3378   \n",
      "4                795            861           5414            9173   \n",
      "5                837            958           6402            9310   \n",
      "6                680            627           3244            3202   \n",
      "7                367           1116           5427            2861   \n",
      "8                215            929           3681            3244   \n",
      "9                273           1108           5581            3188   \n",
      "10               550           1171           6157            7531   \n",
      "11                57            701           2970             736   \n",
      "12                71            677           2431             771   \n",
      "13               217           1379           5821            2109   \n",
      "14               205           1343           5149            3458   \n",
      "15               149            798           2858            2259   \n",
      "16               120           1056           3945            2144   \n",
      "17               144           1086           4956            1602   \n",
      "18               464           1046           5806            7126   \n",
      "19               353            878           4011            4984   \n",
      "20                78           1017           3197            1442   \n",
      "21               374            461           2281            3005   \n",
      "22               243           1017           4285            2613   \n",
      "23               708            761           4597            6807   \n",
      "24               334            421           1826            2183   \n",
      "25               261           1130           3787            4250   \n",
      "26               147            643           3447            1585   \n",
      "27               257            995           4706            3898   \n",
      "28               514            643           4005            4817   \n",
      "29               287            927           4650            3369   \n",
      "...              ...            ...            ...             ...   \n",
      "81282              0              0              0               0   \n",
      "81283              0              1              1               0   \n",
      "81284              0              0              0               0   \n",
      "81285              0              0              1               1   \n",
      "81286              0              0              0               0   \n",
      "81287              0              0              0               0   \n",
      "81288              0              0              0               0   \n",
      "81289              0              0              0               0   \n",
      "81290              0              1              1               0   \n",
      "81291              0              0              0               0   \n",
      "81292              0              0              1               0   \n",
      "81293              0              0              0               0   \n",
      "81294              0              0              0               0   \n",
      "81295              0              0              0               0   \n",
      "81296              0              1              2               0   \n",
      "81297              0              0              0               0   \n",
      "81298              0              0              1               0   \n",
      "81299              0              0              0               0   \n",
      "81300              0              0              0               0   \n",
      "81301              0              0              0               0   \n",
      "81302              0              0              1               0   \n",
      "81303              0              0              0               0   \n",
      "81304              0              0              3               0   \n",
      "81305              0              0              0               0   \n",
      "81306              0              0              0               0   \n",
      "81307              0              0              0               0   \n",
      "81308              0              0              0               0   \n",
      "81309              0              0              0               0   \n",
      "81310              0              0              0               0   \n",
      "81311              0              0              0               0   \n",
      "\n",
      "       total_weights  average_weight  \n",
      "0               2562          3.4785  \n",
      "1               1423          3.8939  \n",
      "2                777          3.7761  \n",
      "3               1642          4.1590  \n",
      "4               5213          3.2943  \n",
      "5               5065          3.6160  \n",
      "6               1260          3.3103  \n",
      "7               1409          4.1292  \n",
      "8               1176          3.0442  \n",
      "9               1486          3.6359  \n",
      "10              3998          3.2911  \n",
      "11               360          3.2250  \n",
      "12               288          3.9375  \n",
      "13               896          3.6328  \n",
      "14              1450          3.7531  \n",
      "15              1012          3.8646  \n",
      "16               933          3.5595  \n",
      "17               608          2.9408  \n",
      "18              2917          2.3384  \n",
      "19              2894          3.8252  \n",
      "20               517          3.3056  \n",
      "21              1121          2.4469  \n",
      "22              1070          4.0103  \n",
      "23              2922          2.9617  \n",
      "24               911          2.4577  \n",
      "25              1861          3.0919  \n",
      "26               674          3.2834  \n",
      "27              1493          2.5177  \n",
      "28              1783          3.2013  \n",
      "29              1761          4.1942  \n",
      "...              ...             ...  \n",
      "81282              0          0.0000  \n",
      "81283              0          0.0000  \n",
      "81284              0          0.0000  \n",
      "81285              1          3.0000  \n",
      "81286              0          0.0000  \n",
      "81287              0          0.0000  \n",
      "81288              0          0.0000  \n",
      "81289              0          0.0000  \n",
      "81290              0          0.0000  \n",
      "81291              0          0.0000  \n",
      "81292              0          0.0000  \n",
      "81293              0          0.0000  \n",
      "81294              0          0.0000  \n",
      "81295              0          0.0000  \n",
      "81296              0          0.0000  \n",
      "81297              0          0.0000  \n",
      "81298              0          0.0000  \n",
      "81299              0          0.0000  \n",
      "81300              0          0.0000  \n",
      "81301              0          0.0000  \n",
      "81302              0          0.0000  \n",
      "81303              0          0.0000  \n",
      "81304              0          0.0000  \n",
      "81305              0          0.0000  \n",
      "81306              0          0.0000  \n",
      "81307              0          0.0000  \n",
      "81308              0          0.0000  \n",
      "81309              0          0.0000  \n",
      "81310              0          0.0000  \n",
      "81311              0          0.0000  \n",
      "\n",
      "[81312 rows x 20 columns]>\n"
     ]
    }
   ],
   "source": [
    "print(games.head)"
   ]
  },
  {
   "cell_type": "code",
   "execution_count": 19,
   "metadata": {},
   "outputs": [
    {
     "data": {
      "text/plain": [
       "(array([24380.,   606.,  1325.,  3303.,  6687., 12277., 15849., 11737.,\n",
       "         3860.,  1288.]),\n",
       " array([ 0.,  1.,  2.,  3.,  4.,  5.,  6.,  7.,  8.,  9., 10.]),\n",
       " <a list of 10 Patch objects>)"
      ]
     },
     "execution_count": 19,
     "metadata": {},
     "output_type": "execute_result"
    },
    {
     "data": {
      "image/png": "[encoded data removed]",
      "text/plain": [
       "<Figure size 432x288 with 1 Axes>"
      ]
     },
     "metadata": {
      "needs_background": "light"
     },
     "output_type": "display_data"
    }
   ],
   "source": [
    "plt.hist(games[\"average_rating\"])"
   ]
  },
  {
   "cell_type": "code",
   "execution_count": 21,
   "metadata": {},
   "outputs": [
    {
     "name": "stderr",
     "output_type": "stream",
     "text": [
      "E:\\ANACONDA\\lib\\site-packages\\numpy\\lib\\histograms.py:839: RuntimeWarning: invalid value encountered in greater_equal\n",
      "  keep = (tmp_a >= first_edge)\n",
      "E:\\ANACONDA\\lib\\site-packages\\numpy\\lib\\histograms.py:840: RuntimeWarning: invalid value encountered in less_equal\n",
      "  keep &= (tmp_a <= last_edge)\n"
     ]
    },
    {
     "data": {
      "text/plain": [
       "(array([8.1298e+04, 6.0000e+00, 3.0000e+00, 0.0000e+00, 0.0000e+00,\n",
       "        0.0000e+00, 0.0000e+00, 0.0000e+00, 0.0000e+00, 2.0000e+00]),\n",
       " array([    0.,  6012., 12024., 18036., 24048., 30060., 36072., 42084.,\n",
       "        48096., 54108., 60120.]),\n",
       " <a list of 10 Patch objects>)"
      ]
     },
     "execution_count": 21,
     "metadata": {},
     "output_type": "execute_result"
    },
    {
     "data": {
      "image/png": "[encoded data removed]",
      "text/plain": [
       "<Figure size 432x288 with 1 Axes>"
      ]
     },
     "metadata": {
      "needs_background": "light"
     },
     "output_type": "display_data"
    }
   ],
   "source": [
    "plt.hist(games[\"playingtime\"])"
   ]
  },
  {
   "cell_type": "code",
   "execution_count": 26,
   "metadata": {},
   "outputs": [
    {
     "name": "stdout",
     "output_type": "stream",
     "text": [
      "0         True\n",
      "1         True\n",
      "2         True\n",
      "3         True\n",
      "4         True\n",
      "5         True\n",
      "6         True\n",
      "7         True\n",
      "8         True\n",
      "9         True\n",
      "10        True\n",
      "11        True\n",
      "12        True\n",
      "13        True\n",
      "14        True\n",
      "15        True\n",
      "16        True\n",
      "17        True\n",
      "18        True\n",
      "19        True\n",
      "20        True\n",
      "21        True\n",
      "22        True\n",
      "23        True\n",
      "24        True\n",
      "25        True\n",
      "26        True\n",
      "27        True\n",
      "28        True\n",
      "29        True\n",
      "         ...  \n",
      "81282    False\n",
      "81283    False\n",
      "81284    False\n",
      "81285    False\n",
      "81286    False\n",
      "81287    False\n",
      "81288    False\n",
      "81289    False\n",
      "81290    False\n",
      "81291    False\n",
      "81292    False\n",
      "81293    False\n",
      "81294    False\n",
      "81295    False\n",
      "81296    False\n",
      "81297    False\n",
      "81298    False\n",
      "81299    False\n",
      "81300    False\n",
      "81301    False\n",
      "81302    False\n",
      "81303    False\n",
      "81304    False\n",
      "81305    False\n",
      "81306    False\n",
      "81307    False\n",
      "81308    False\n",
      "81309    False\n",
      "81310    False\n",
      "81311    False\n",
      "Name: average_rating, Length: 81312, dtype: bool\n"
     ]
    },
    {
     "ename": "AttributeError",
     "evalue": "'NoneType' object has no attribute 'iloc'",
     "output_type": "error",
     "traceback": [
      "\u001b[1;31m---------------------------------------------------------------------------\u001b[0m",
      "\u001b[1;31mAttributeError\u001b[0m                            Traceback (most recent call last)",
      "\u001b[1;32m<ipython-input-26-7ec93c072283>\u001b[0m in \u001b[0;36m<module>\u001b[1;34m\u001b[0m\n\u001b[1;32m----> 1\u001b[1;33m \u001b[0mprint\u001b[0m\u001b[1;33m(\u001b[0m\u001b[0mgames\u001b[0m\u001b[1;33m[\u001b[0m\u001b[1;34m\"average_rating\"\u001b[0m\u001b[1;33m]\u001b[0m \u001b[1;33m>\u001b[0m \u001b[1;36m0\u001b[0m\u001b[1;33m)\u001b[0m\u001b[1;33m.\u001b[0m\u001b[0miloc\u001b[0m\u001b[1;33m[\u001b[0m\u001b[1;36m0\u001b[0m\u001b[1;33m]\u001b[0m\u001b[1;33m\u001b[0m\u001b[1;33m\u001b[0m\u001b[0m\n\u001b[0m",
      "\u001b[1;31mAttributeError\u001b[0m: 'NoneType' object has no attribute 'iloc'"
     ]
    }
   ],
   "source": [
    "print(games[\"average_rating\"] > 0).iloc[0]"
   ]
  },
  {
   "cell_type": "code",
   "execution_count": 68,
   "metadata": {},
   "outputs": [],
   "source": [
    "games = games[games[\"users_rated\"] > 0]"
   ]
  },
  {
   "cell_type": "code",
   "execution_count": 69,
   "metadata": {},
   "outputs": [
    {
     "data": {
      "text/plain": [
       "(array([5.6394e+04, 3.4100e+02, 8.1000e+01, 3.7000e+01, 1.7000e+01,\n",
       "        4.0000e+00, 8.0000e+00, 4.0000e+00, 4.0000e+00, 4.0000e+00]),\n",
       " array([1.00000e+00, 5.36890e+03, 1.07368e+04, 1.61047e+04, 2.14726e+04,\n",
       "        2.68405e+04, 3.22084e+04, 3.75763e+04, 4.29442e+04, 4.83121e+04,\n",
       "        5.36800e+04]),\n",
       " <a list of 10 Patch objects>)"
      ]
     },
     "execution_count": 69,
     "metadata": {},
     "output_type": "execute_result"
    },
    {
     "data": {
      "image/png": "[encoded data removed]",
      "text/plain": [
       "<Figure size 432x288 with 1 Axes>"
      ]
     },
     "metadata": {
      "needs_background": "light"
     },
     "output_type": "display_data"
    }
   ],
   "source": [
    "plt.hist(games[\"users_rated\"])"
   ]
  },
  {
   "cell_type": "code",
   "execution_count": 70,
   "metadata": {},
   "outputs": [],
   "source": [
    "games = games.dropna(axis=0)"
   ]
  },
  {
   "cell_type": "code",
   "execution_count": 36,
   "metadata": {},
   "outputs": [
    {
     "data": {
      "text/plain": [
       "(array([5.6394e+04, 3.4100e+02, 8.1000e+01, 3.7000e+01, 1.7000e+01,\n",
       "        4.0000e+00, 8.0000e+00, 4.0000e+00, 4.0000e+00, 4.0000e+00]),\n",
       " array([1.00000e+00, 5.36890e+03, 1.07368e+04, 1.61047e+04, 2.14726e+04,\n",
       "        2.68405e+04, 3.22084e+04, 3.75763e+04, 4.29442e+04, 4.83121e+04,\n",
       "        5.36800e+04]),\n",
       " <a list of 10 Patch objects>)"
      ]
     },
     "execution_count": 36,
     "metadata": {},
     "output_type": "execute_result"
    },
    {
     "data": {
      "image/png": "[encoded data removed]",
      "text/plain": [
       "<Figure size 432x288 with 1 Axes>"
      ]
     },
     "metadata": {
      "needs_background": "light"
     },
     "output_type": "display_data"
    }
   ],
   "source": [
    "plt.hist(games[\"users_rated\"])"
   ]
  },
  {
   "cell_type": "code",
   "execution_count": 102,
   "metadata": {},
   "outputs": [
    {
     "name": "stdout",
     "output_type": "stream",
     "text": [
      "Index(['id', 'type', 'name', 'yearpublished', 'minplayers', 'maxplayers',\n",
      "       'playingtime', 'minplaytime', 'maxplaytime', 'minage', 'users_rated',\n",
      "       'average_rating', 'bayes_average_rating', 'total_owners',\n",
      "       'total_traders', 'total_wanters', 'total_wishers', 'total_comments',\n",
      "       'total_weights', 'average_weight'],\n",
      "      dtype='object')\n"
     ]
    }
   ],
   "source": [
    "print(games.columns)"
   ]
  },
  {
   "cell_type": "code",
   "execution_count": 40,
   "metadata": {},
   "outputs": [
    {
     "data": {
      "image/png": "[encoded data removed]",
      "text/plain": [
       "<Figure size 864x648 with 2 Axes>"
      ]
     },
     "metadata": {
      "needs_background": "light"
     },
     "output_type": "display_data"
    }
   ],
   "source": [
    "corrmat = games.corr()\n",
    "fig = plt.figure(figsize = (12,9))\n",
    "sns.heatmap(corrmat, vmax = .8, square = True)\n",
    "plt.show()"
   ]
  },
  {
   "cell_type": "code",
   "execution_count": 94,
   "metadata": {},
   "outputs": [],
   "source": [
    "#getting all the columns\n",
    "columns = games.columns.tolist()\n",
    "\n",
    "\n",
    "columns = [c for c in columns if c not in [\"bayes_average_rating\", \"average_rating\", \"type\", \"name\", \"id\"]]\n",
    "\n",
    "\n",
    "target = \"average_rating\""
   ]
  },
  {
   "cell_type": "code",
   "execution_count": 95,
   "metadata": {},
   "outputs": [],
   "source": [
    "from sklearn.model_selection import train_test_split\n",
    "train = games.sample(frac = 0.8, random_state = 1)\n",
    "test = games.loc[~games.index.isin(train.index)]\n"
   ]
  },
  {
   "cell_type": "code",
   "execution_count": 96,
   "metadata": {},
   "outputs": [
    {
     "name": "stdout",
     "output_type": "stream",
     "text": [
      "(45515, 20)\n"
     ]
    }
   ],
   "source": [
    "print(train.shape)"
   ]
  },
  {
   "cell_type": "code",
   "execution_count": 97,
   "metadata": {},
   "outputs": [
    {
     "name": "stdout",
     "output_type": "stream",
     "text": [
      "(11379, 20)\n"
     ]
    }
   ],
   "source": [
    "print(test.shape)"
   ]
  },
  {
   "cell_type": "code",
   "execution_count": 98,
   "metadata": {},
   "outputs": [],
   "source": [
    "from sklearn.linear_model import LinearRegression"
   ]
  },
  {
   "cell_type": "code",
   "execution_count": 99,
   "metadata": {},
   "outputs": [],
   "source": [
    "from sklearn.metrics import mean_squared_error"
   ]
  },
  {
   "cell_type": "code",
   "execution_count": 100,
   "metadata": {},
   "outputs": [],
   "source": [
    "LR = LinearRegression()"
   ]
  },
  {
   "cell_type": "code",
   "execution_count": 101,
   "metadata": {},
   "outputs": [
    {
     "data": {
      "text/plain": [
       "LinearRegression(copy_X=True, fit_intercept=True, n_jobs=None, normalize=False)"
      ]
     },
     "execution_count": 101,
     "metadata": {},
     "output_type": "execute_result"
    }
   ],
   "source": [
    "LR.fit(train[columns], train[target])\n"
   ]
  },
  {
   "cell_type": "code",
   "execution_count": 105,
   "metadata": {},
   "outputs": [],
   "source": [
    "predictions = LR.predict(test[columns])"
   ]
  },
  {
   "cell_type": "code",
   "execution_count": 108,
   "metadata": {},
   "outputs": [
    {
     "data": {
      "text/plain": [
       "2.078819032629326"
      ]
     },
     "execution_count": 108,
     "metadata": {},
     "output_type": "execute_result"
    }
   ],
   "source": [
    "mean_squared_error(predictions, test[target])"
   ]
  },
  {
   "cell_type": "code",
   "execution_count": 111,
   "metadata": {},
   "outputs": [],
   "source": [
    "from sklearn.ensemble import RandomForestRegressor"
   ]
  },
  {
   "cell_type": "code",
   "execution_count": 112,
   "metadata": {},
   "outputs": [],
   "source": [
    " RFR = RandomForestRegressor(n_estimators = 100, min_samples_leaf = 10, random_state=1)"
   ]
  },
  {
   "cell_type": "code",
   "execution_count": 114,
   "metadata": {},
   "outputs": [
    {
     "data": {
      "text/plain": [
       "RandomForestRegressor(bootstrap=True, criterion='mse', max_depth=None,\n",
       "                      max_features='auto', max_leaf_nodes=None,\n",
       "                      min_impurity_decrease=0.0, min_impurity_split=None,\n",
       "                      min_samples_leaf=10, min_samples_split=2,\n",
       "                      min_weight_fraction_leaf=0.0, n_estimators=100,\n",
       "                      n_jobs=None, oob_score=False, random_state=1, verbose=0,\n",
       "                      warm_start=False)"
      ]
     },
     "execution_count": 114,
     "metadata": {},
     "output_type": "execute_result"
    }
   ],
   "source": [
    "RFR.fit(train[columns],train[target])"
   ]
  },
  {
   "cell_type": "code",
   "execution_count": 115,
   "metadata": {},
   "outputs": [],
   "source": [
    "predictions = RFR.predict(test[columns])"
   ]
  },
  {
   "cell_type": "code",
   "execution_count": 119,
   "metadata": {},
   "outputs": [
    {
     "data": {
      "text/plain": [
       "1.4458560046071653"
      ]
     },
     "execution_count": 119,
     "metadata": {},
     "output_type": "execute_result"
    }
   ],
   "source": [
    "mean_squared_error(predictions, test[target])"
   ]
  },
  {
   "cell_type": "code",
   "execution_count": 120,
   "metadata": {},
   "outputs": [
    {
     "data": {
      "text/plain": [
       "yearpublished      2011.0000\n",
       "minplayers            2.0000\n",
       "maxplayers            6.0000\n",
       "playingtime         200.0000\n",
       "minplaytime          60.0000\n",
       "maxplaytime         200.0000\n",
       "minage               14.0000\n",
       "users_rated       15709.0000\n",
       "total_owners      17611.0000\n",
       "total_traders       273.0000\n",
       "total_wanters      1108.0000\n",
       "total_wishers      5581.0000\n",
       "total_comments     3188.0000\n",
       "total_weights      1486.0000\n",
       "average_weight        3.6359\n",
       "Name: 9, dtype: float64"
      ]
     },
     "execution_count": 120,
     "metadata": {},
     "output_type": "execute_result"
    }
   ],
   "source": [
    "test[columns].iloc[0]"
   ]
  },
  {
   "cell_type": "code",
   "execution_count": 123,
   "metadata": {},
   "outputs": [],
   "source": [
    "rating_linear = LR.predict(test[columns].iloc[0].values.reshape(1,-1))"
   ]
  },
  {
   "cell_type": "code",
   "execution_count": 124,
   "metadata": {},
   "outputs": [],
   "source": [
    "rating_rfr = RFR.predict(test[columns].iloc[0].values.reshape(1,-1))"
   ]
  },
  {
   "cell_type": "code",
   "execution_count": 125,
   "metadata": {},
   "outputs": [
    {
     "name": "stdout",
     "output_type": "stream",
     "text": [
      "[8.12061283]\n"
     ]
    }
   ],
   "source": [
    "print(rating_linear)"
   ]
  },
  {
   "cell_type": "code",
   "execution_count": 126,
   "metadata": {},
   "outputs": [
    {
     "name": "stdout",
     "output_type": "stream",
     "text": [
      "[7.91373581]\n"
     ]
    }
   ],
   "source": [
    "print(rating_rfr)"
   ]
  },
  {
   "cell_type": "code",
   "execution_count": 128,
   "metadata": {},
   "outputs": [
    {
     "name": "stdout",
     "output_type": "stream",
     "text": [
      "8.07933\n"
     ]
    }
   ],
   "source": [
    "print(test[target].iloc[0])"
   ]
  },
  {
   "cell_type": "code",
   "execution_count": null,
   "metadata": {},
   "outputs": [],
   "source": []
  }
 ],
 "metadata": {
  "kernelspec": {
   "display_name": "Python 3",
   "language": "python",
   "name": "python3"
  },
  "language_info": {
   "codemirror_mode": {
    "name": "ipython",
    "version": 3
   },
   "file_extension": ".py",
   "mimetype": "text/x-python",
   "name": "python",
   "nbconvert_exporter": "python",
   "pygments_lexer": "ipython3",
   "version": "3.7.3"
  }
 },
 "nbformat": 4,
 "nbformat_minor": 2
}
